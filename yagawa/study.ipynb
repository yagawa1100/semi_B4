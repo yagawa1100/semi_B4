{
  "nbformat": 4,
  "nbformat_minor": 0,
  "metadata": {
    "colab": {
      "name": "study.ipynb ",
      "provenance": [],
      "collapsed_sections": []
    },
    "kernelspec": {
      "name": "python3",
      "display_name": "Python 3"
    }
  },
  "cells": [
    {
      "cell_type": "markdown",
      "metadata": {
        "id": "-QL7G1O8kY-d"
      },
      "source": [
        "#MPRG春の勉強2021 第10回：問題解決の方法 (課題)\n",
        "\n",
        "\n",
        "\"問題解決の方法\"と関係のない話になりますが，Pythonにおける全てのエラー(\\*Error)はクラスとして定義されており，BaseExceptionからサブクラス(継承)を重ねて派生しています．例外(Exception)にSyntaxErrorが属していたり，BaseExceptionに警告(\\*Warning)が属していたりします．気になる人は[組み込み例外の公式ドキュメント](https://docs.python.org/ja/3/library/exceptions.html)を一度読んでみると良いでしょう．"
      ]
    },
    {
      "cell_type": "markdown",
      "metadata": {
        "id": "3vNZTh3o0S06"
      },
      "source": [
        "---\n",
        "## SyntaxError"
      ]
    },
    {
      "cell_type": "code",
      "metadata": {
        "id": "nUSujfyP2mZf",
        "colab": {
          "base_uri": "https://localhost:8080/"
        },
        "outputId": "c1ee9b32-4d12-47e0-ea39-b068dd4db1ad"
      },
      "source": [
        "# SyntaxError\n",
        "# 文字列を出力したい\n",
        "\n",
        "# 欲しい出力：\n",
        "# Hello world\n",
        "\n",
        "print(\"Hello world\")"
      ],
      "execution_count": null,
      "outputs": [
        {
          "output_type": "stream",
          "text": [
            "Hello world\n"
          ],
          "name": "stdout"
        }
      ]
    },
    {
      "cell_type": "code",
      "metadata": {
        "id": "d-acFTl0kpxA",
        "colab": {
          "base_uri": "https://localhost:8080/"
        },
        "outputId": "05ff066b-24c8-4663-ba43-10647179b33c"
      },
      "source": [
        "# IndentationError：SyntaxErrorのサブクラス\n",
        "# 無駄にif文を使って文字列を出力したい\n",
        "\n",
        "# 欲しい出力：\n",
        "# Hello\n",
        "# world\n",
        "\n",
        "if True:\n",
        "  print(\"Hello\")\n",
        "if True:\n",
        "  print(\"world\")"
      ],
      "execution_count": null,
      "outputs": [
        {
          "output_type": "stream",
          "text": [
            "Hello\n",
            "world\n"
          ],
          "name": "stdout"
        }
      ]
    },
    {
      "cell_type": "markdown",
      "metadata": {
        "id": "lEDm3UcjknzX"
      },
      "source": [
        "---\n",
        "## 例外"
      ]
    },
    {
      "cell_type": "code",
      "metadata": {
        "id": "LwiLen9acDNY",
        "colab": {
          "base_uri": "https://localhost:8080/"
        },
        "outputId": "c0e9ed86-1808-4901-8f01-d582b1ee7268"
      },
      "source": [
        "# AttributeError\n",
        "# mathモジュールにあるコサイン関数を使ってコサインゼロの値を出力したい\n",
        "\n",
        "# 欲しい出力：\n",
        "# cos(0) = 1.0\n",
        "\n",
        "import math\n",
        "\n",
        "print(\"cos(0) =\", math.cos(0))"
      ],
      "execution_count": null,
      "outputs": [
        {
          "output_type": "stream",
          "text": [
            "cos(0) = 1.0\n"
          ],
          "name": "stdout"
        }
      ]
    },
    {
      "cell_type": "code",
      "metadata": {
        "id": "3IKq06kVywqu",
        "colab": {
          "base_uri": "https://localhost:8080/"
        },
        "outputId": "3a24be09-1ad4-46a4-947d-b43cd8119cc6"
      },
      "source": [
        "# ImportError\n",
        "# mathモジュールからインポートしたサイン関数を使ってサインゼロの値を出力したい\n",
        "\n",
        "# 欲しい出力：\n",
        "# sin(0) = 0.0\n",
        "\n",
        "from math import sin\n",
        "\n",
        "print(\"sin(0) =\", sin(0))"
      ],
      "execution_count": null,
      "outputs": [
        {
          "output_type": "stream",
          "text": [
            "sin(0) = 0.0\n"
          ],
          "name": "stdout"
        }
      ]
    },
    {
      "cell_type": "code",
      "metadata": {
        "id": "XI05W2xYFoEz",
        "colab": {
          "base_uri": "https://localhost:8080/"
        },
        "outputId": "cc379f9b-78f9-437b-e053-273a12dba6ac"
      },
      "source": [
        "# TypeError\n",
        "# 文字列(Hello world)を3回(numの数だけ)出力したい\n",
        "\n",
        "# 欲しい出力：\n",
        "# Hello world\n",
        "# Hello world\n",
        "# Hello world\n",
        "\n",
        "num = 3.0\n",
        "for _ in range(int (num)):\n",
        "  print(\"Hello world\")"
      ],
      "execution_count": null,
      "outputs": [
        {
          "output_type": "stream",
          "text": [
            "Hello world\n",
            "Hello world\n",
            "Hello world\n"
          ],
          "name": "stdout"
        }
      ]
    },
    {
      "cell_type": "code",
      "metadata": {
        "id": "yeW-5eH8mQOh",
        "colab": {
          "base_uri": "https://localhost:8080/"
        },
        "outputId": "a7dc71b2-0b0f-436b-81c2-9bdb9e495d72"
      },
      "source": [
        "# ValueError\n",
        "# 行列の足し算をしたい\n",
        "\n",
        "# 欲しい出力：\n",
        "# arr3:\n",
        "#  [[ 0  2  4]\n",
        "#  [ 6  8 10]]\n",
        "# arr3.size:\n",
        "#  6\n",
        "\n",
        "import numpy as np\n",
        "\n",
        "arr1 = np.arange(6).reshape((2, 3))\n",
        "arr2 = np.arange(6).reshape((2, 3))\n",
        "arr3 = arr1 + arr2\n",
        "\n",
        "print(\"arr3:\\n\", arr3)\n",
        "print(\"arr3.size:\\n\", arr3.size)"
      ],
      "execution_count": null,
      "outputs": [
        {
          "output_type": "stream",
          "text": [
            "arr3:\n",
            " [[ 0  2  4]\n",
            " [ 6  8 10]]\n",
            "arr3.size:\n",
            " 6\n"
          ],
          "name": "stdout"
        }
      ]
    },
    {
      "cell_type": "code",
      "metadata": {
        "id": "kd2v_4eT6fzr",
        "colab": {
          "base_uri": "https://localhost:8080/"
        },
        "outputId": "3927eb0e-6ba2-44ff-d5b3-2b85a5123927"
      },
      "source": [
        "# RuntimeError\n",
        "# ネットワーク定義と画像の入出力をしたい\n",
        "\n",
        "# 欲しい出力：\n",
        "# output.shape:\n",
        "#  torch.Size([1, 10])\n",
        "# model_arch:\n",
        "#  NN(\n",
        "#    [ネットワーク構造は指定しません]\n",
        "#  )\n",
        "\n",
        "import torch\n",
        "from torch import nn\n",
        "\n",
        "num_classes = 10 # クラス数は10。変えないように。\n",
        "input = torch.randn(1, 3, 32, 32) # 入力画像としてサイズ32x32のRGB画像１枚を想定し，そのサイズの乱数を生成。変えないように。\n",
        "nchannel = 64 # 全結合層の入力サイズ。変えないように。\n",
        "\n",
        "class NN(nn.Module):\n",
        "  def __init__(self, out_units, nchannel):\n",
        "    super(NN, self).__init__()\n",
        "    self.activation = nn.ReLU()\n",
        "    self.nchannel = nchannel\n",
        "\n",
        "    self.conv1 = nn.Conv2d(3, 128, 3, padding=1)\n",
        "    self.mp1 = nn.MaxPool2d(2, stride=2, padding=0)\n",
        "    self.conv2 = nn.Conv2d(128, 4, 3, padding=1)\n",
        "    self.mp2 = nn.MaxPool2d(4, stride=4, padding=0)\n",
        "    self.l1 = nn.Linear(self.nchannel, 32)\n",
        "    self.l2 = nn.Linear(32, out_units)\n",
        "    self.out = nn.Softmax(dim=1)\n",
        "\n",
        "  def forward(self, x):\n",
        "    x = self.conv1(x)\n",
        "    x = self.activation(x)\n",
        "    x = self.mp1(x)\n",
        "\n",
        "    x = self.conv2(x)\n",
        "    x = self.activation(x)\n",
        "    x = self.mp2(x)\n",
        "\n",
        "    x = x.view(-1, self.nchannel)\n",
        "    x = self.l1(x)\n",
        "    x = self.l2(x)\n",
        "    return self.out(x)\n",
        "\n",
        "model = NN(num_classes, nchannel)\n",
        "output = model(input)\n",
        "\n",
        "print(\"output.shape:\\n\", output.shape)\n",
        "print(\"model_arch:\\n\", model)"
      ],
      "execution_count": null,
      "outputs": [
        {
          "output_type": "stream",
          "text": [
            "output.shape:\n",
            " torch.Size([1, 10])\n",
            "model_arch:\n",
            " NN(\n",
            "  (activation): ReLU()\n",
            "  (conv1): Conv2d(3, 128, kernel_size=(3, 3), stride=(1, 1), padding=(1, 1))\n",
            "  (mp1): MaxPool2d(kernel_size=2, stride=2, padding=0, dilation=1, ceil_mode=False)\n",
            "  (conv2): Conv2d(128, 4, kernel_size=(3, 3), stride=(1, 1), padding=(1, 1))\n",
            "  (mp2): MaxPool2d(kernel_size=4, stride=4, padding=0, dilation=1, ceil_mode=False)\n",
            "  (l1): Linear(in_features=64, out_features=32, bias=True)\n",
            "  (l2): Linear(in_features=32, out_features=10, bias=True)\n",
            "  (out): Softmax(dim=1)\n",
            ")\n"
          ],
          "name": "stdout"
        }
      ]
    }
  ]
}
